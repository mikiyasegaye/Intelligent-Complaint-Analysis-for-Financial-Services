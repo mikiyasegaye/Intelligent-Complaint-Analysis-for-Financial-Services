{
  "cells": [
    {
      "cell_type": "raw",
      "metadata": {
        "vscode": {
          "languageId": "raw"
        }
      },
      "source": [
        "# Text Chunking and Embedding Generation\n",
        "\n",
        "This notebook implements Task 2 of the Financial Complaints Analysis project, which involves:\n",
        "1. Chunking the complaint narratives into smaller segments\n",
        "2. Generating embeddings using Sentence Transformers\n",
        "3. Storing the embeddings in a vector database (ChromaDB)\n",
        "\n",
        "## Setup and Imports\n",
        "The following cell sets up the environment and imports necessary libraries:\n"
      ]
    },
    {
      "cell_type": "raw",
      "metadata": {
        "vscode": {
          "languageId": "raw"
        }
      },
      "source": [
        "## Data Loading\n",
        "Loading the preprocessed complaints data from the CSV file. This data has already been cleaned in the previous notebook.\n"
      ]
    },
    {
      "cell_type": "code",
      "execution_count": 2,
      "metadata": {},
      "outputs": [
        {
          "name": "stdout",
          "output_type": "stream",
          "text": [
            "Using device: mps\n"
          ]
        }
      ],
      "source": [
        "# Add project root to sys.path so config can be imported\n",
        "import sys\n",
        "from pathlib import Path\n",
        "\n",
        "# Set project root (assumes this notebook is in 'notebooks/')\n",
        "project_root = Path.cwd().parent\n",
        "sys.path.append(str(project_root))\n",
        "\n",
        "# Imports\n",
        "import pandas as pd\n",
        "import numpy as np\n",
        "import torch\n",
        "import time\n",
        "import os\n",
        "from typing import List, Dict, Tuple\n",
        "from tqdm.notebook import tqdm\n",
        "import joblib\n",
        "\n",
        "from langchain.text_splitter import RecursiveCharacterTextSplitter\n",
        "from langchain.schema import Document\n",
        "from sentence_transformers import SentenceTransformer\n",
        "\n",
        "import chromadb\n",
        "from chromadb.config import Settings\n",
        "\n",
        "# Import project-specific config\n",
        "from config.config import PROCESSED_DATA_DIR, VECTOR_STORE_DIR\n",
        "\n",
        "# Environment settings\n",
        "os.environ[\"TOKENIZERS_PARALLELISM\"] = \"false\"\n",
        "device = \"mps\" if torch.backends.mps.is_available() else \"cpu\"\n",
        "print(f\"Using device: {device}\")\n",
        "\n",
        "# Ensure vector store directory exists\n",
        "VECTOR_STORE_DIR.mkdir(parents=True, exist_ok=True)\n"
      ]
    },
    {
      "cell_type": "raw",
      "metadata": {
        "vscode": {
          "languageId": "raw"
        }
      },
      "source": [
        "## Text Chunking Function\n",
        "This function splits complaint texts into smaller chunks while preserving context:\n",
        "- Uses RecursiveCharacterTextSplitter for intelligent text splitting\n",
        "- Maintains chunk size of 500 characters with 50 character overlap\n",
        "- Preserves metadata for each chunk\n",
        "- Filters out chunks that are too short (< 50 characters)\n"
      ]
    },
    {
      "cell_type": "code",
      "execution_count": 3,
      "metadata": {},
      "outputs": [
        {
          "name": "stdout",
          "output_type": "stream",
          "text": [
            "Loading complaint data...\n",
            "Loaded 443472 complaints\n"
          ]
        },
        {
          "data": {
            "text/html": [
              "<div>\n",
              "<style scoped>\n",
              "    .dataframe tbody tr th:only-of-type {\n",
              "        vertical-align: middle;\n",
              "    }\n",
              "\n",
              "    .dataframe tbody tr th {\n",
              "        vertical-align: top;\n",
              "    }\n",
              "\n",
              "    .dataframe thead th {\n",
              "        text-align: right;\n",
              "    }\n",
              "</style>\n",
              "<table border=\"1\" class=\"dataframe\">\n",
              "  <thead>\n",
              "    <tr style=\"text-align: right;\">\n",
              "      <th></th>\n",
              "      <th>complaint_narrative</th>\n",
              "      <th>cleaned_narrative</th>\n",
              "      <th>product</th>\n",
              "      <th>sub_product</th>\n",
              "      <th>issue</th>\n",
              "      <th>sub_issue</th>\n",
              "      <th>company</th>\n",
              "      <th>state</th>\n",
              "      <th>date_received</th>\n",
              "      <th>complaint_id</th>\n",
              "    </tr>\n",
              "  </thead>\n",
              "  <tbody>\n",
              "    <tr>\n",
              "      <th>0</th>\n",
              "      <td>A XXXX XXXX card was opened under my name by a...</td>\n",
              "      <td>a [REDACTED] [REDACTED] card was opened under ...</td>\n",
              "      <td>credit card</td>\n",
              "      <td>store credit card</td>\n",
              "      <td>getting a credit card</td>\n",
              "      <td>card opened without my consent or knowledge</td>\n",
              "      <td>citibank, n.a.</td>\n",
              "      <td>tx</td>\n",
              "      <td>2025-06-13</td>\n",
              "      <td>14069121</td>\n",
              "    </tr>\n",
              "    <tr>\n",
              "      <th>1</th>\n",
              "      <td>I made the mistake of using my wellsfargo debi...</td>\n",
              "      <td>i made the mistake of using my wellsfargo debi...</td>\n",
              "      <td>checking or savings account</td>\n",
              "      <td>checking account</td>\n",
              "      <td>managing an account</td>\n",
              "      <td>deposits and withdrawals</td>\n",
              "      <td>wells fargo &amp; company</td>\n",
              "      <td>id</td>\n",
              "      <td>2025-06-13</td>\n",
              "      <td>14061897</td>\n",
              "    </tr>\n",
              "    <tr>\n",
              "      <th>2</th>\n",
              "      <td>Dear CFPB, I have a secured credit card with c...</td>\n",
              "      <td>dear cfpb i have a secured credit card with ci...</td>\n",
              "      <td>credit card</td>\n",
              "      <td>general-purpose credit card or charge card</td>\n",
              "      <td>other features, terms, or problems</td>\n",
              "      <td>other problem</td>\n",
              "      <td>citibank, n.a.</td>\n",
              "      <td>ny</td>\n",
              "      <td>2025-06-12</td>\n",
              "      <td>14047085</td>\n",
              "    </tr>\n",
              "    <tr>\n",
              "      <th>3</th>\n",
              "      <td>I have a Citi rewards cards. The credit balanc...</td>\n",
              "      <td>i have a citi rewards cards the credit balance...</td>\n",
              "      <td>credit card</td>\n",
              "      <td>general-purpose credit card or charge card</td>\n",
              "      <td>incorrect information on your report</td>\n",
              "      <td>account information incorrect</td>\n",
              "      <td>citibank, n.a.</td>\n",
              "      <td>il</td>\n",
              "      <td>2025-06-12</td>\n",
              "      <td>14040217</td>\n",
              "    </tr>\n",
              "    <tr>\n",
              "      <th>4</th>\n",
              "      <td>b'I am writing to dispute the following charge...</td>\n",
              "      <td>i am writing to dispute the following charges ...</td>\n",
              "      <td>credit card</td>\n",
              "      <td>general-purpose credit card or charge card</td>\n",
              "      <td>problem with a purchase shown on your statement</td>\n",
              "      <td>credit card company isn't resolving a dispute ...</td>\n",
              "      <td>citibank, n.a.</td>\n",
              "      <td>tx</td>\n",
              "      <td>2025-06-09</td>\n",
              "      <td>13968411</td>\n",
              "    </tr>\n",
              "  </tbody>\n",
              "</table>\n",
              "</div>"
            ],
            "text/plain": [
              "                                 complaint_narrative  \\\n",
              "0  A XXXX XXXX card was opened under my name by a...   \n",
              "1  I made the mistake of using my wellsfargo debi...   \n",
              "2  Dear CFPB, I have a secured credit card with c...   \n",
              "3  I have a Citi rewards cards. The credit balanc...   \n",
              "4  b'I am writing to dispute the following charge...   \n",
              "\n",
              "                                   cleaned_narrative  \\\n",
              "0  a [REDACTED] [REDACTED] card was opened under ...   \n",
              "1  i made the mistake of using my wellsfargo debi...   \n",
              "2  dear cfpb i have a secured credit card with ci...   \n",
              "3  i have a citi rewards cards the credit balance...   \n",
              "4  i am writing to dispute the following charges ...   \n",
              "\n",
              "                       product                                 sub_product  \\\n",
              "0                  credit card                           store credit card   \n",
              "1  checking or savings account                            checking account   \n",
              "2                  credit card  general-purpose credit card or charge card   \n",
              "3                  credit card  general-purpose credit card or charge card   \n",
              "4                  credit card  general-purpose credit card or charge card   \n",
              "\n",
              "                                             issue  \\\n",
              "0                            getting a credit card   \n",
              "1                              managing an account   \n",
              "2               other features, terms, or problems   \n",
              "3             incorrect information on your report   \n",
              "4  problem with a purchase shown on your statement   \n",
              "\n",
              "                                           sub_issue                company  \\\n",
              "0        card opened without my consent or knowledge         citibank, n.a.   \n",
              "1                           deposits and withdrawals  wells fargo & company   \n",
              "2                                      other problem         citibank, n.a.   \n",
              "3                      account information incorrect         citibank, n.a.   \n",
              "4  credit card company isn't resolving a dispute ...         citibank, n.a.   \n",
              "\n",
              "  state date_received  complaint_id  \n",
              "0    tx    2025-06-13      14069121  \n",
              "1    id    2025-06-13      14061897  \n",
              "2    ny    2025-06-12      14047085  \n",
              "3    il    2025-06-12      14040217  \n",
              "4    tx    2025-06-09      13968411  "
            ]
          },
          "execution_count": 3,
          "metadata": {},
          "output_type": "execute_result"
        }
      ],
      "source": [
        "print(\"Loading complaint data...\")\n",
        "df = pd.read_csv(PROCESSED_DATA_DIR / 'filtered_complaints.csv')\n",
        "print(f\"Loaded {len(df)} complaints\")\n",
        "df.head()\n"
      ]
    },
    {
      "cell_type": "raw",
      "metadata": {
        "vscode": {
          "languageId": "raw"
        }
      },
      "source": [
        "## Embedding Generation\n",
        "Setting up the embedding model and generation function:\n",
        "- Uses all-MiniLM-L6-v2 model from Sentence Transformers\n",
        "- Leverages MPS acceleration on Apple Silicon\n",
        "- Implements efficient batch processing\n",
        "- Tracks progress and performance metrics\n"
      ]
    },
    {
      "cell_type": "code",
      "execution_count": 4,
      "metadata": {},
      "outputs": [],
      "source": [
        "def create_complaint_chunks(complaint_text: str, metadata: Dict, chunk_size: int = 500, chunk_overlap: int = 50) -> List[Document]:\n",
        "    splitter = RecursiveCharacterTextSplitter(\n",
        "        chunk_size=chunk_size,\n",
        "        chunk_overlap=chunk_overlap,\n",
        "        length_function=len,\n",
        "        separators=[\"\\n\\n\", \"\\n\", \". \", \" \", \"\"]\n",
        "    )\n",
        "    texts = splitter.split_text(complaint_text)\n",
        "    texts = [text for text in texts if len(text.strip()) > 50]\n",
        "    return [\n",
        "        Document(page_content=text, metadata={**metadata, \"chunk_index\": i, \"total_chunks\": len(texts)})\n",
        "        for i, text in enumerate(texts)\n",
        "    ]\n"
      ]
    },
    {
      "cell_type": "raw",
      "metadata": {
        "vscode": {
          "languageId": "raw"
        }
      },
      "source": [
        "## Caching Embeddings\n",
        "To avoid regenerating embeddings on every run:\n",
        "- Checks for cached embeddings in `cached_embeddings.pkl`\n",
        "- If not found, generates new embeddings\n",
        "- Saves embeddings to cache for future use\n",
        "\n",
        "Note: The cache file is large and should be added to .gitignore\n"
      ]
    },
    {
      "cell_type": "code",
      "execution_count": 5,
      "metadata": {},
      "outputs": [
        {
          "name": "stdout",
          "output_type": "stream",
          "text": [
            "Creating chunks...\n"
          ]
        },
        {
          "data": {
            "application/vnd.jupyter.widget-view+json": {
              "model_id": "02fdf6c0c47441cfb2faccfcd7afe380",
              "version_major": 2,
              "version_minor": 0
            },
            "text/plain": [
              "Chunking complaints:   0%|          | 0/443472 [00:00<?, ?it/s]"
            ]
          },
          "metadata": {},
          "output_type": "display_data"
        },
        {
          "name": "stdout",
          "output_type": "stream",
          "text": [
            "Total chunks created: 1336041\n"
          ]
        }
      ],
      "source": [
        "print(\"Creating chunks...\")\n",
        "chunk_size = 500\n",
        "chunk_overlap = 50\n",
        "all_documents = []\n",
        "\n",
        "for _, row in tqdm(df.iterrows(), total=len(df), desc=\"Chunking complaints\"):\n",
        "    metadata = {\n",
        "        'complaint_id': str(row['complaint_id']),\n",
        "        'product': row['product'],\n",
        "        'sub_product': row['sub_product'],\n",
        "        'company': row['company'],\n",
        "        'state': row['state'],\n",
        "        'date_received': row['date_received']\n",
        "    }\n",
        "    chunks = create_complaint_chunks(row['cleaned_narrative'], metadata, chunk_size, chunk_overlap)\n",
        "    all_documents.extend(chunks)\n",
        "\n",
        "print(f\"Total chunks created: {len(all_documents)}\")\n"
      ]
    },
    {
      "cell_type": "raw",
      "metadata": {
        "vscode": {
          "languageId": "raw"
        }
      },
      "source": [
        "## Vector Store Setup\n",
        "Setting up ChromaDB as our vector store:\n",
        "- Creates a persistent collection\n",
        "- Stores embeddings on disk for future use\n",
        "- Maintains all metadata for each chunk\n"
      ]
    },
    {
      "cell_type": "code",
      "execution_count": 6,
      "metadata": {},
      "outputs": [],
      "source": [
        "model_name = 'all-MiniLM-L6-v2'\n",
        "embedding_model = SentenceTransformer(model_name, device=device)\n",
        "\n",
        "def generate_embeddings(documents: List[Document], batch_size: int = 64) -> Tuple[List[str], List[Dict], List[np.ndarray]]:\n",
        "    ids = [f\"chunk_{doc.metadata['complaint_id']}_{doc.metadata['chunk_index']}\" for doc in documents]\n",
        "    texts = [doc.page_content for doc in documents]\n",
        "    metadatas = [doc.metadata for doc in documents]\n",
        "\n",
        "    embeddings = []\n",
        "    total_time = 0\n",
        "    n_batches = (len(texts) + batch_size - 1) // batch_size\n",
        "\n",
        "    for i in tqdm(range(0, len(texts), batch_size), total=n_batches, desc=\"Generating embeddings\"):\n",
        "        batch_texts = texts[i:i + batch_size]\n",
        "        start = time.time()\n",
        "        batch_embeddings = embedding_model.encode(\n",
        "            batch_texts, convert_to_numpy=True, show_progress_bar=False, batch_size=batch_size\n",
        "        )\n",
        "        embeddings.extend(batch_embeddings)\n",
        "        total_time += time.time() - start\n",
        "\n",
        "    print(f\"Total time: {total_time:.2f}s | Avg speed: {len(texts)/total_time:.1f} docs/s\")\n",
        "    return ids, metadatas, embeddings\n"
      ]
    },
    {
      "cell_type": "raw",
      "metadata": {
        "vscode": {
          "languageId": "raw"
        }
      },
      "source": [
        "## Test Query\n",
        "Testing the vector store with a sample query:\n",
        "- Generates embedding for the query text\n",
        "- Retrieves most similar documents\n",
        "- Shows relevant metadata and similarity scores\n"
      ]
    },
    {
      "cell_type": "code",
      "execution_count": 7,
      "metadata": {},
      "outputs": [
        {
          "data": {
            "application/vnd.jupyter.widget-view+json": {
              "model_id": "98dcffe7c93a4b4faedec40fc57d3f15",
              "version_major": 2,
              "version_minor": 0
            },
            "text/plain": [
              "Generating embeddings:   0%|          | 0/20876 [00:00<?, ?it/s]"
            ]
          },
          "metadata": {},
          "output_type": "display_data"
        },
        {
          "name": "stdout",
          "output_type": "stream",
          "text": [
            "Total time: 2011.38s | Avg speed: 664.2 docs/s\n"
          ]
        }
      ],
      "source": [
        "cache_path = Path(\"../.cache/cached_embeddings.pkl\")\n",
        "\n",
        "if cache_path.exists():\n",
        "    print(\"Loading cached embeddings...\")\n",
        "    ids, metadatas, embeddings = joblib.load(cache_path)\n",
        "else:\n",
        "    ids, metadatas, embeddings = generate_embeddings(all_documents)\n",
        "    joblib.dump((ids, metadatas, embeddings), cache_path)\n"
      ]
    },
    {
      "cell_type": "code",
      "execution_count": 8,
      "metadata": {},
      "outputs": [
        {
          "name": "stderr",
          "output_type": "stream",
          "text": [
            "Failed to send telemetry event ClientStartEvent: capture() takes 1 positional argument but 3 were given\n",
            "Failed to send telemetry event ClientCreateCollectionEvent: capture() takes 1 positional argument but 3 were given\n"
          ]
        },
        {
          "name": "stdout",
          "output_type": "stream",
          "text": [
            "Collection created.\n"
          ]
        }
      ],
      "source": [
        "chroma_client = chromadb.Client(Settings(\n",
        "    persist_directory=str(VECTOR_STORE_DIR),\n",
        "    is_persistent=True\n",
        "))\n",
        "\n",
        "collection_name = \"financial_complaints\"\n",
        "try:\n",
        "    collection = chroma_client.get_collection(collection_name)\n",
        "    print(\"Collection loaded.\")\n",
        "except:\n",
        "    collection = chroma_client.create_collection(\n",
        "        name=collection_name,\n",
        "        metadata={\"description\": \"Financial complaints embeddings\"}\n",
        "    )\n",
        "    print(\"Collection created.\")\n"
      ]
    },
    {
      "cell_type": "code",
      "execution_count": 10,
      "metadata": {},
      "outputs": [
        {
          "name": "stdout",
          "output_type": "stream",
          "text": [
            "Indexing documents to ChromaDB in batches...\n"
          ]
        },
        {
          "data": {
            "application/vnd.jupyter.widget-view+json": {
              "model_id": "5863435f3a71438d8218649f60a9f490",
              "version_major": 2,
              "version_minor": 0
            },
            "text/plain": [
              "Adding to ChromaDB:   0%|          | 0/1337 [00:00<?, ?it/s]"
            ]
          },
          "metadata": {},
          "output_type": "display_data"
        },
        {
          "name": "stdout",
          "output_type": "stream",
          "text": [
            "\n",
            "✅ Total documents in store: 1336041\n"
          ]
        }
      ],
      "source": [
        "print(\"Indexing documents to ChromaDB in batches...\")\n",
        "\n",
        "# Configure safe batch size under the 5461 limit\n",
        "batch_size = 1000\n",
        "\n",
        "for i in tqdm(range(0, len(ids), batch_size), desc=\"Adding to ChromaDB\"):\n",
        "    batch_ids = ids[i:i + batch_size]\n",
        "    batch_embeddings = embeddings[i:i + batch_size]\n",
        "    batch_metadatas = metadatas[i:i + batch_size]\n",
        "    batch_docs = [doc.page_content for doc in all_documents[i:i + batch_size]]\n",
        "    \n",
        "    collection.add(\n",
        "        ids=batch_ids,\n",
        "        embeddings=batch_embeddings,\n",
        "        metadatas=batch_metadatas,\n",
        "        documents=batch_docs\n",
        "    )\n",
        "\n",
        "print(f\"\\n✅ Total documents in store: {collection.count()}\")\n"
      ]
    },
    {
      "cell_type": "code",
      "execution_count": 11,
      "metadata": {},
      "outputs": [
        {
          "name": "stderr",
          "output_type": "stream",
          "text": [
            "Failed to send telemetry event CollectionQueryEvent: capture() takes 1 positional argument but 3 were given\n"
          ]
        },
        {
          "name": "stdout",
          "output_type": "stream",
          "text": [
            "\n",
            "Query Results:\n",
            "\n",
            "Result 1:\n",
            "Distance: 0.4562\n",
            "Product: credit card or prepaid card\n",
            "Company: ally financial inc.\n",
            "Text: i am making payments yet not getting to use my card...\n",
            "\n",
            "Result 2:\n",
            "Distance: 0.4648\n",
            "Product: credit card or prepaid card\n",
            "Company: avant holding company, inc.\n",
            "Text: saying my payment did not go through though there are funds in the account i tried to pay with i have other credit cards ive no problem paying but this one never seems to take my payments...\n"
          ]
        }
      ],
      "source": [
        "query_text = \"I have an issue with my credit card payment\"\n",
        "query_embedding = embedding_model.encode(query_text)\n",
        "\n",
        "results = collection.query(\n",
        "    query_embeddings=[query_embedding],\n",
        "    n_results=2,\n",
        "    include=['documents', 'metadatas', 'distances']\n",
        ")\n",
        "\n",
        "print(\"\\nQuery Results:\")\n",
        "for i, (doc, metadata, distance) in enumerate(zip(\n",
        "    results['documents'][0], results['metadatas'][0], results['distances'][0]\n",
        ")):\n",
        "    print(f\"\\nResult {i+1}:\")\n",
        "    print(f\"Distance: {distance:.4f}\")\n",
        "    print(f\"Product: {metadata['product']}\")\n",
        "    print(f\"Company: {metadata['company']}\")\n",
        "    print(f\"Text: {doc[:200]}...\")\n"
      ]
    },
    {
      "cell_type": "code",
      "execution_count": 13,
      "metadata": {},
      "outputs": [],
      "source": [
        "def search_complaints(\n",
        "    query_text: str,\n",
        "    top_k: int = 3,\n",
        "    filter_conditions: Dict = None,\n",
        "    show_similarity: bool = True\n",
        "):\n",
        "    \"\"\"\n",
        "    Search ChromaDB for complaint chunks similar to the query.\n",
        "\n",
        "    Args:\n",
        "        query_text (str): User's question or issue.\n",
        "        top_k (int): Number of results to return.\n",
        "        filter_conditions (dict): Optional metadata filters.\n",
        "        show_similarity (bool): If True, shows 1 - distance instead of raw distance.\n",
        "\n",
        "    Returns:\n",
        "        List of results printed to stdout.\n",
        "    \"\"\"\n",
        "    query_embedding = embedding_model.encode(query_text)\n",
        "    \n",
        "    query_params = {\n",
        "        \"query_embeddings\": [query_embedding],\n",
        "        \"n_results\": top_k,\n",
        "        \"include\": [\"documents\", \"metadatas\", \"distances\"]\n",
        "    }\n",
        "\n",
        "    if filter_conditions:\n",
        "        query_params[\"where\"] = filter_conditions\n",
        "\n",
        "    results = collection.query(**query_params)\n",
        "\n",
        "    print(f\"\\n🔍 Query: {query_text}\")\n",
        "    for i, (doc, metadata, distance) in enumerate(zip(\n",
        "        results[\"documents\"][0],\n",
        "        results[\"metadatas\"][0],\n",
        "        results[\"distances\"][0]\n",
        "    )):\n",
        "        score = 1 - distance if show_similarity else distance\n",
        "        score_label = \"Similarity\" if show_similarity else \"Distance\"\n",
        "        print(f\"\\nResult {i+1}:\")\n",
        "        print(f\"{score_label}: {score:.4f}\")\n",
        "        print(f\"Product: {metadata.get('product')}\")\n",
        "        print(f\"Company: {metadata.get('company')}\")\n",
        "        print(f\"Text: {doc[:250]}...\")\n"
      ]
    },
    {
      "cell_type": "code",
      "execution_count": 14,
      "metadata": {},
      "outputs": [
        {
          "name": "stdout",
          "output_type": "stream",
          "text": [
            "\n",
            "🔍 Query: My credit card was declined after payment went through\n",
            "\n",
            "Result 1:\n",
            "Similarity: 0.6014\n",
            "Product: credit card or prepaid card\n",
            "Company: bread financial holdings, inc.\n",
            "Text: okay i have a credit card through [REDACTED] [REDACTED] had it over a year and all was fine until now we are doing work to the house and i use this credit card i pay it off as soon as the charges appear on my statement i went to use it and it was dec...\n",
            "\n",
            "Result 2:\n",
            "Similarity: 0.5776\n",
            "Product: credit card\n",
            "Company: synchrony financial\n",
            "Text: i tried to make a purchase my card was declined when i called i was told that my card was charged for the purchase and charged several times for the purchase and they refused to refund the money they also refused to check all previous transactions to...\n",
            "\n",
            "Result 3:\n",
            "Similarity: 0.5534\n",
            "Product: credit card\n",
            "Company: wells fargo & company\n",
            "Text: tried to use credit card and purchases were declined multiple times i called customer service multiple times but help was not provided both cards continue to decline this is so embarrassing...\n",
            "\n",
            "🔍 Query: The loan interest rate changed without notice\n",
            "\n",
            "Result 1:\n",
            "Similarity: 0.4942\n",
            "Product: credit card\n",
            "Company: jpmorgan chase & co.\n",
            "Text: interest rate with no reason and without notice to me i would have been treated better if i was a delinquent borrower consumer i should have received notice to have the opportunity to opt out the change...\n",
            "\n",
            "Result 2:\n",
            "Similarity: 0.4379\n",
            "Product: credit card\n",
            "Company: capital one financial corporation\n",
            "Text: no one can explain why the interest rate increased payments are higher with no notice wasnt the original agreement...\n",
            "\n",
            "Result 3:\n",
            "Similarity: 0.4059\n",
            "Product: credit card\n",
            "Company: citibank, n.a.\n",
            "Text: citicard changed my interest rate without prior notice...\n",
            "\n",
            "🔍 Query: They closed my savings account without warning\n",
            "\n",
            "Result 1:\n",
            "Similarity: 0.6498\n",
            "Product: credit card or prepaid card\n",
            "Company: citibank, n.a.\n",
            "Text: me a credible reason why they would closed my checking savings accounts and did not have the courtesy to warn me before closing my credit card...\n",
            "\n",
            "Result 2:\n",
            "Similarity: 0.6428\n",
            "Product: checking or savings account\n",
            "Company: discover bank\n",
            "Text: i opened a high yield savings account after i transferred the money they closed the account it has been almost a month before i got the money back and no information in why they closed the account...\n",
            "\n",
            "Result 3:\n",
            "Similarity: 0.6285\n",
            "Product: bank account or service\n",
            "Company: fifth third financial corporation\n",
            "Text: several times that they close my account the savings account remains open...\n",
            "\n",
            "🔍 Query: I was charged twice on my debit card\n",
            "\n",
            "Result 1:\n",
            "Similarity: 0.6542\n",
            "Product: checking or savings account\n",
            "Company: chime financial inc\n",
            "Text: my card the again even though it was clear that i was charged twice...\n",
            "\n",
            "Result 2:\n",
            "Similarity: 0.6409\n",
            "Product: checking or savings account\n",
            "Company: wells fargo & company\n",
            "Text: charged to my debit card i did not make that charge...\n",
            "\n",
            "Result 3:\n",
            "Similarity: 0.6098\n",
            "Product: checking or savings account\n",
            "Company: wells fargo & company\n",
            "Text: i was being charged extra for not using my debit card a certain amount of times in a month...\n",
            "\n",
            "🔍 Query: I can't send money internationally with my app\n",
            "\n",
            "Result 1:\n",
            "Similarity: 0.3874\n",
            "Product: money transfer, virtual currency, or money service\n",
            "Company: block, inc.\n",
            "Text: i was trying to send money from my cash app to my bank and it wouldnt let me...\n",
            "\n",
            "Result 2:\n",
            "Similarity: 0.3542\n",
            "Product: money transfer, virtual currency, or money service\n",
            "Company: pnc bank n.a.\n",
            "Text: transfer money in the way i see fit the app never works and im at a loss this needs resolved asap...\n",
            "\n",
            "Result 3:\n",
            "Similarity: 0.3486\n",
            "Product: money transfer, virtual currency, or money service\n",
            "Company: paypal holdings, inc\n",
            "Text: i am using it on my business and i am having trouble on receiving money internationally because of what happened...\n"
          ]
        }
      ],
      "source": [
        "search_complaints(\"My credit card was declined after payment went through\")\n",
        "search_complaints(\"The loan interest rate changed without notice\")\n",
        "search_complaints(\"They closed my savings account without warning\")\n",
        "search_complaints(\"I was charged twice on my debit card\")\n",
        "search_complaints(\"I can't send money internationally with my app\")\n"
      ]
    },
    {
      "cell_type": "code",
      "execution_count": 15,
      "metadata": {},
      "outputs": [
        {
          "name": "stdout",
          "output_type": "stream",
          "text": [
            "\n",
            "🔍 Query: I was charged a late fee even though I paid on time\n",
            "\n",
            "Result 1:\n",
            "Similarity: 0.7436\n",
            "Product: credit card or prepaid card\n",
            "Company: capital one financial corporation\n",
            "Text: i was charged a late fee on of my credit cards and my payments were made on time...\n",
            "\n",
            "Result 2:\n",
            "Similarity: 0.7260\n",
            "Product: credit card or prepaid card\n",
            "Company: bread financial holdings, inc.\n",
            "Text: late fee on time and now every month they ve been charging me a late fee on the late fee...\n",
            "\n",
            "🔍 Query: They rejected my loan application without any explanation\n",
            "\n",
            "Result 1:\n",
            "Similarity: 0.6394\n",
            "Product: money transfer, virtual currency, or money service\n",
            "Company: enova international, inc.\n",
            "Text: received a denial for a loan application i did not ask for did not apply for a loan...\n",
            "\n",
            "Result 2:\n",
            "Similarity: 0.5103\n",
            "Product: payday loan\n",
            "Company: borrowersfirst, inc.\n",
            "Text: i applied for the personal loan two times and i was denied without getting the reason from the lender it is the borrowersfirst who asked to provide all the verifications and signed [REDACTED] then never called or sent any letter or email regarding th...\n",
            "\n",
            "🔍 Query: My savings account was frozen without warning\n",
            "\n",
            "Result 1:\n",
            "Similarity: 0.5892\n",
            "Product: checking or savings account\n",
            "Company: jpmorgan chase & co.\n",
            "Text: my checking account was frozen and i have a hold on all of my money i have been saving up...\n",
            "\n",
            "Result 2:\n",
            "Similarity: 0.5382\n",
            "Product: money transfer, virtual currency, or money service\n",
            "Company: paypal holdings, inc\n",
            "Text: my account was frozen for not verifiable reason and i have in funds...\n"
          ]
        }
      ],
      "source": [
        "# Run a set of test queries to evaluate semantic retrieval\n",
        "test_queries = [\n",
        "    \"I was charged a late fee even though I paid on time\",\n",
        "    \"They rejected my loan application without any explanation\",\n",
        "    \"My savings account was frozen without warning\"\n",
        "]\n",
        "\n",
        "for query in test_queries:\n",
        "    search_complaints(query_text=query, top_k=2)\n"
      ]
    },
    {
      "cell_type": "code",
      "execution_count": 16,
      "metadata": {},
      "outputs": [
        {
          "name": "stdout",
          "output_type": "stream",
          "text": [
            "\n",
            "🔍 Query: My credit card keeps getting declined\n",
            "\n",
            "Result 1:\n",
            "Similarity: 0.6089\n",
            "Product: credit card or prepaid card\n",
            "Company: american express company\n",
            "Text: i have one personal and business american express cards i have had my personal card for over years i have requested at least times for a credit limit increase and each time the system automatically declines me i have sent in my filed tax returns my c...\n",
            "\n",
            "Result 2:\n",
            "Similarity: 0.5673\n",
            "Product: credit card or prepaid card\n",
            "Company: wells fargo & company\n",
            "Text: my wells fargo credit card is being declined for the past two months for at least times i have called various department of wells fargo wells fargo is not doing anything to fix the problem i am embarrassed every time my card is declined this decline ...\n",
            "\n",
            "🔍 Query: They keep increasing my credit card interest rate\n",
            "\n",
            "Result 1:\n",
            "Similarity: 0.4770\n",
            "Product: credit card or prepaid card\n",
            "Company: u.s. bancorp\n",
            "Text: and being careful not to spend they have never raised my interest rate for the years i have had this credit card likewise they never reduced my interest rate during their month reviews when i was carrying a balance...\n",
            "\n",
            "Result 2:\n",
            "Similarity: 0.4689\n",
            "Product: credit card or prepaid card\n",
            "Company: capital one financial corporation\n",
            "Text: they keep charging me fees interest at the same times too much fees and interest...\n"
          ]
        }
      ],
      "source": [
        "# Run filtered queries limited to 'credit card or prepaid card' product\n",
        "filtered_queries = [\n",
        "    \"My credit card keeps getting declined\",\n",
        "    \"They keep increasing my credit card interest rate\"\n",
        "]\n",
        "\n",
        "for query in filtered_queries:\n",
        "    search_complaints(\n",
        "        query_text=query,\n",
        "        top_k=2,\n",
        "        filter_conditions={\"product\": \"credit card or prepaid card\"}\n",
        "    )\n"
      ]
    }
  ],
  "metadata": {
    "kernelspec": {
      "display_name": "venv",
      "language": "python",
      "name": "python3"
    },
    "language_info": {
      "codemirror_mode": {
        "name": "ipython",
        "version": 3
      },
      "file_extension": ".py",
      "mimetype": "text/x-python",
      "name": "python",
      "nbconvert_exporter": "python",
      "pygments_lexer": "ipython3",
      "version": "3.12.11"
    }
  },
  "nbformat": 4,
  "nbformat_minor": 2
}
